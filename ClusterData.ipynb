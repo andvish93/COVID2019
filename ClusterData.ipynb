{
 "cells": [
  {
   "cell_type": "markdown",
   "metadata": {},
   "source": [
    "## Importing Packages\n",
    "### Dependency\n",
    "#### 1. bs4, nltk,  pandas, matplotlib, numpy, string required"
   ]
  },
  {
   "cell_type": "code",
   "execution_count": 1,
   "metadata": {},
   "outputs": [],
   "source": [
    "from bs4 import BeautifulSoup\n",
    "from nltk.corpus import stopwords\n",
    "from nltk.stem import WordNetLemmatizer\n",
    "from nltk.stem.porter import PorterStemmer\n",
    "from nltk.tokenize import RegexpTokenizer\n",
    "from sklearn.cluster import MiniBatchKMeans\n",
    "from sklearn.decomposition import PCA\n",
    "from sklearn.feature_extraction.text import TfidfVectorizer\n",
    "from sklearn.metrics import silhouette_score\n",
    "import matplotlib.pyplot as plt\n",
    "import numpy as np\n",
    "import pandas as pd\n",
    "import string\n",
    "import xml.etree.ElementTree as ET "
   ]
  },
  {
   "cell_type": "markdown",
   "metadata": {},
   "source": [
    "## Extraction"
   ]
  },
  {
   "cell_type": "code",
   "execution_count": 2,
   "metadata": {
    "scrolled": true
   },
   "outputs": [],
   "source": [
    "# parsing xml to get the URL's\n",
    "\n",
    "tree = ET.parse('mendeley_document_library_2020-03-25.xml') \n",
    "root = tree.getroot()\n",
    "\n",
    "# urlList = [ url.text for url in root.iter('url')]\n",
    "abstract = [ abstract.text for abstract in root.iter('abstract')]\n",
    "# pdfUrl, httpUrl = [url for url in urlList if not url.startswith('http')], [url for url in urlList if url.startswith('http')]\n",
    "\n",
    "random_state=42"
   ]
  },
  {
   "cell_type": "code",
   "execution_count": 3,
   "metadata": {
    "scrolled": true
   },
   "outputs": [],
   "source": [
    "df = pd.DataFrame(abstract, columns=['text'])\n",
    "df.to_pickle(\"./df.pkl\") # persisiting it for processing by other notebook"
   ]
  },
  {
   "cell_type": "markdown",
   "metadata": {},
   "source": [
    "## Pre-Processing"
   ]
  },
  {
   "cell_type": "code",
   "execution_count": 4,
   "metadata": {},
   "outputs": [],
   "source": [
    "# HTML tag removal\n",
    "def remove_html(text):\n",
    "    soup = BeautifulSoup(text, \"lxml\")\n",
    "    return soup.get_text()\n",
    "\n",
    "df['text'] = df['text'].apply(lambda x: remove_html(x))\n",
    "\n",
    "# Punctuation removal\n",
    "def remove_punctuation(text):\n",
    "    return \"\".join([c for c in text if c not in string.punctuation])\n",
    "\n",
    "df['text'] = df['text'].apply(lambda x: remove_punctuation(x))\n",
    "\n",
    "# Tokenize text using spaces\n",
    "tokenizer = RegexpTokenizer(r'\\w+')\n",
    "df['text'] = df['text'].apply(lambda x: tokenizer.tokenize(x.lower()))\n",
    "\n",
    "# Removing stopwords\n",
    "def remove_stopwords(text):\n",
    "    return [w for w in text if w not in stopwords.words('english')]\n",
    "\n",
    "df['text'] = df['text'].apply(lambda x: remove_stopwords(x))\n",
    "\n",
    "# Lemmatizing the text\n",
    "lemmatizer = WordNetLemmatizer()\n",
    "def word_lemmatizer(text):\n",
    "    return\" \".join( [lemmatizer.lemmatize(i) for i in text])\n",
    "\n",
    "df['text'] = df['text'].apply(lambda x: word_lemmatizer(x))"
   ]
  },
  {
   "cell_type": "markdown",
   "metadata": {},
   "source": [
    "## Model Building"
   ]
  },
  {
   "cell_type": "code",
   "execution_count": 5,
   "metadata": {},
   "outputs": [],
   "source": [
    "# TFIDF Vectorizer\n",
    "vec = TfidfVectorizer(stop_words=\"english\")\n",
    "vec.fit(df.text.values)\n",
    "features = vec.transform(df.text.values)"
   ]
  },
  {
   "cell_type": "code",
   "execution_count": 6,
   "metadata": {},
   "outputs": [
    {
     "data": {
      "text/plain": [
       "MiniBatchKMeans(batch_size=100, compute_labels=True, init='k-means++',\n",
       "                init_size=None, max_iter=100, max_no_improvement=10,\n",
       "                n_clusters=3, n_init=3, random_state=42,\n",
       "                reassignment_ratio=0.01, tol=0.0, verbose=0)"
      ]
     },
     "execution_count": 6,
     "metadata": {},
     "output_type": "execute_result"
    }
   ],
   "source": [
    "cls = MiniBatchKMeans(n_clusters=3, random_state=random_state)\n",
    "cls.fit(features)"
   ]
  },
  {
   "cell_type": "code",
   "execution_count": 7,
   "metadata": {
    "scrolled": true
   },
   "outputs": [
    {
     "data": {
      "text/plain": [
       "array([2, 0, 0, 1, 0, 0, 1, 1, 1, 1, 2, 0, 2, 1, 1, 2, 2, 1, 2, 1, 1, 2,\n",
       "       2, 1, 2, 2, 1, 1, 1, 1, 0, 0, 1, 0, 0, 0, 1, 1, 2, 0, 0, 0, 0, 2,\n",
       "       0, 2, 1, 1, 1, 1, 1, 2, 2, 1, 2, 2, 0, 2, 1, 1, 0, 1, 1, 1, 1, 1,\n",
       "       1, 1, 1, 1, 1, 1, 1, 1, 2, 0, 2, 0, 0, 2, 2, 1, 1, 0, 1, 1, 1, 2,\n",
       "       1, 0, 2, 1, 0, 1, 2, 0, 2, 1, 1, 1, 0, 0, 0, 1, 2, 1, 1, 2, 1, 2,\n",
       "       2, 1, 1, 1, 1, 0, 2, 0, 1, 1, 1, 1, 0, 1, 0, 0, 1, 1, 1, 0, 1, 2,\n",
       "       0, 1, 2, 1, 2, 1, 0, 1, 1, 1, 1, 1, 1, 2, 0, 2, 1, 2, 2, 2, 1, 1,\n",
       "       2, 0, 1, 2, 2, 1, 2, 0, 2, 1, 2, 0, 1, 0, 0, 1, 1, 2, 2, 1, 0, 2,\n",
       "       2, 1, 1, 1, 2, 1, 1, 1, 1, 2, 2, 1, 0, 1, 2, 2, 0, 2, 0, 2, 0, 1,\n",
       "       0, 1, 2, 2, 0, 0, 2, 2, 0, 1, 1, 0, 2, 2, 1, 1, 1, 1, 0, 0, 0, 1,\n",
       "       1, 1, 2, 1, 1, 1, 1, 1, 0, 1, 1, 1, 1, 1, 0, 1, 1, 1, 2, 1, 1, 0,\n",
       "       1, 1, 1, 1, 0, 2, 0, 2, 2, 1, 0, 1, 0, 0, 1, 1, 0, 2, 1, 1, 1, 1,\n",
       "       1, 1, 2, 0, 1, 1, 0, 0, 1, 2, 1, 2, 0, 2, 1, 0, 2, 1, 0, 2, 0, 2,\n",
       "       0, 1, 1, 1, 0, 2, 1, 0, 1, 1, 0, 0, 1, 2, 1, 2, 1, 1, 1, 1, 1, 1,\n",
       "       0, 1, 2, 0, 2, 2, 1, 1, 2, 0, 1, 1, 1, 0, 1, 2, 0, 0, 0, 1, 2, 0,\n",
       "       0, 0, 0, 0, 1, 1, 1, 2, 0, 1, 1, 1, 1, 0, 1, 1, 2, 1, 2, 1, 1, 0,\n",
       "       2, 0, 1, 1, 1, 0, 1, 1, 2, 1, 2, 1, 1, 1, 1, 1, 2, 1, 0, 0, 1, 1,\n",
       "       0, 1, 0, 1, 1, 1, 1, 1, 2, 1, 1, 1, 0, 1, 1, 2, 2, 1, 0, 1, 0, 1,\n",
       "       1, 2, 1, 1, 0, 1, 2, 2, 0, 0, 1, 2, 1, 1, 0, 1, 0, 0, 1, 0, 1, 1,\n",
       "       1, 2, 0, 1, 1, 0, 0, 1, 0, 0, 0, 2, 1, 0, 0, 0, 0, 0, 2, 2, 1, 2,\n",
       "       1, 1, 1, 2, 1, 1, 1, 1, 1, 1, 0, 2, 1, 1, 1, 2, 0, 0, 1, 2, 1, 2,\n",
       "       1, 1, 2, 0, 0, 1, 0, 1, 1, 0, 0, 1, 2, 1, 0, 0, 0, 1, 1, 0, 2, 0,\n",
       "       1, 1, 2, 1, 0, 0, 2, 0, 0, 1, 1, 0, 2, 1, 0, 1, 2, 2, 0, 1, 0, 1,\n",
       "       1, 1, 1, 1, 1, 0, 1, 2, 1, 1, 1, 1, 2, 1, 0, 0, 0, 2, 0, 1, 2, 1,\n",
       "       2, 0, 2, 2, 0, 1, 1, 0, 0, 1, 1, 1, 0, 2, 2, 0, 1, 1, 1, 2, 2, 2,\n",
       "       1, 2, 0, 2, 1, 1, 1, 1, 1, 1, 2, 1, 0, 2, 1, 1, 0, 1, 2, 1, 1, 1,\n",
       "       2, 0, 0, 0, 0, 1, 1, 1, 1, 1, 1, 1, 2, 1, 0, 1, 0, 1, 1, 0, 1, 2,\n",
       "       2, 1, 2, 0, 1, 1, 1, 1, 1, 1, 2, 0, 2, 1, 1, 0, 1, 2, 2, 2, 0, 1,\n",
       "       2, 0, 0, 1, 0, 1, 2, 2, 2, 1, 1, 1, 2, 0, 1, 1, 2, 1, 2, 1, 0, 0,\n",
       "       0, 1, 1, 1, 0, 2, 1, 2, 1, 1, 2, 1, 0, 1, 1, 1, 1, 1, 1, 0, 1, 1,\n",
       "       1, 1, 1, 1, 1, 1, 1, 2, 0, 2, 2, 0, 0, 1, 2, 1, 1, 1, 0, 1, 0, 0,\n",
       "       0, 1, 2, 1, 0, 0, 1, 2, 1, 1, 2, 1, 1, 1, 1, 0, 1, 0, 1, 1, 1, 0,\n",
       "       2, 1, 1, 0, 1, 0, 1, 1, 1, 0, 1, 0, 1, 1, 0, 1, 0, 2, 1, 1, 1, 1,\n",
       "       2, 1, 2, 1, 1, 0, 1, 0, 2, 1, 1, 1, 1, 1, 1, 1, 1, 0, 1, 1, 2, 2,\n",
       "       1, 1, 2, 2, 1, 1, 1, 1, 2, 1, 1, 0, 1, 1, 1, 1, 2, 0, 1, 1, 1, 1,\n",
       "       1, 1, 1, 2, 1, 1, 1, 0, 1, 1, 2, 0, 2, 1, 0, 1, 1, 0, 0, 0, 2, 1,\n",
       "       1, 0, 2, 1, 1, 1, 0, 1, 1, 1, 1, 1, 2, 1, 1, 0, 1, 2, 1, 1, 1, 0,\n",
       "       1, 0, 1, 1, 1, 0, 1, 2, 1, 2, 1, 1, 0, 2, 0, 0, 0, 2, 1, 0, 1, 0,\n",
       "       1, 2, 0, 0, 1, 1, 1, 0, 1, 1, 2, 1, 1, 1, 0])"
      ]
     },
     "execution_count": 7,
     "metadata": {},
     "output_type": "execute_result"
    }
   ],
   "source": [
    "# predict cluster labels for new dataset\n",
    "cls.predict(features)\n",
    "cls.labels_"
   ]
  },
  {
   "cell_type": "markdown",
   "metadata": {},
   "source": [
    "## Visualization"
   ]
  },
  {
   "cell_type": "code",
   "execution_count": 8,
   "metadata": {},
   "outputs": [],
   "source": [
    "# reduce the features to 2D\n",
    "pca = PCA(n_components=2, random_state=random_state)\n",
    "reduced_features = pca.fit_transform(features.toarray())\n",
    "\n",
    "# reduce the cluster centers to 2D\n",
    "reduced_cluster_centers = pca.transform(cls.cluster_centers_)"
   ]
  },
  {
   "cell_type": "code",
   "execution_count": 9,
   "metadata": {},
   "outputs": [
    {
     "data": {
      "text/plain": [
       "<matplotlib.collections.PathCollection at 0x22f4e320608>"
      ]
     },
     "execution_count": 9,
     "metadata": {},
     "output_type": "execute_result"
    },
    {
     "data": {
      "image/png": "[encoded data removed]",
      "text/plain": [
       "<Figure size 432x288 with 1 Axes>"
      ]
     },
     "metadata": {
      "needs_background": "light"
     },
     "output_type": "display_data"
    }
   ],
   "source": [
    "plt.scatter(reduced_features[:,0], reduced_features[:,1], c=cls.predict(features))\n",
    "plt.scatter(reduced_cluster_centers[:, 0], reduced_cluster_centers[:,1], marker='x', s=150, c='b')"
   ]
  },
  {
   "cell_type": "markdown",
   "metadata": {},
   "source": [
    "## Performance Evaluation"
   ]
  },
  {
   "cell_type": "code",
   "execution_count": 10,
   "metadata": {},
   "outputs": [
    {
     "data": {
      "text/plain": [
       "0.031745613368529886"
      ]
     },
     "execution_count": 10,
     "metadata": {},
     "output_type": "execute_result"
    }
   ],
   "source": [
    "# measure performance for unlabelled dataset\n",
    "silhouette_score(features, labels=cls.predict(features))"
   ]
  },
  {
   "cell_type": "markdown",
   "metadata": {},
   "source": [
    "## Persisting"
   ]
  },
  {
   "cell_type": "code",
   "execution_count": 11,
   "metadata": {},
   "outputs": [],
   "source": [
    "dfLabels = pd.DataFrame(cls.labels_, columns = ['class'])"
   ]
  },
  {
   "cell_type": "code",
   "execution_count": 12,
   "metadata": {},
   "outputs": [],
   "source": [
    "dfLabels.to_pickle(\"./dfLabels.pkl\")"
   ]
  }
 ],
 "metadata": {
  "kernelspec": {
   "display_name": "Python 3",
   "language": "python",
   "name": "python3"
  },
  "language_info": {
   "codemirror_mode": {
    "name": "ipython",
    "version": 3
   },
   "file_extension": ".py",
   "mimetype": "text/x-python",
   "name": "python",
   "nbconvert_exporter": "python",
   "pygments_lexer": "ipython3",
   "version": "3.7.4"
  }
 },
 "nbformat": 4,
 "nbformat_minor": 4
}
