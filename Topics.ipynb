{
 "cells": [
  {
   "cell_type": "markdown",
   "metadata": {},
   "source": [
    "## Importing Packages\n",
    "### Dependency\n",
    "#### 1. sklearn, pandas and spacy required\n",
    "#### 2. Relies on paper data"
   ]
  },
  {
   "cell_type": "code",
   "execution_count": 1,
   "metadata": {},
   "outputs": [],
   "source": [
    "from sklearn.decomposition import NMF\n",
    "from sklearn.feature_extraction.text import TfidfVectorizer\n",
    "import pandas as pd\n",
    "import spacy"
   ]
  },
  {
   "cell_type": "markdown",
   "metadata": {},
   "source": [
    "## Reading Data"
   ]
  },
  {
   "cell_type": "code",
   "execution_count": 2,
   "metadata": {},
   "outputs": [],
   "source": [
    "df = pd.read_pickle(\"./df.pkl\")"
   ]
  },
  {
   "cell_type": "markdown",
   "metadata": {},
   "source": [
    "## Pre-processing"
   ]
  },
  {
   "cell_type": "code",
   "execution_count": 3,
   "metadata": {},
   "outputs": [],
   "source": [
    "nlp = spacy.load(\"en\", disable=['parser', 'ner'])\n",
    "random_state = 0"
   ]
  },
  {
   "cell_type": "code",
   "execution_count": 4,
   "metadata": {
    "scrolled": true
   },
   "outputs": [
    {
     "data": {
      "text/html": [
       "<div>\n",
       "<style scoped>\n",
       "    .dataframe tbody tr th:only-of-type {\n",
       "        vertical-align: middle;\n",
       "    }\n",
       "\n",
       "    .dataframe tbody tr th {\n",
       "        vertical-align: top;\n",
       "    }\n",
       "\n",
       "    .dataframe thead th {\n",
       "        text-align: right;\n",
       "    }\n",
       "</style>\n",
       "<table border=\"1\" class=\"dataframe\">\n",
       "  <thead>\n",
       "    <tr style=\"text-align: right;\">\n",
       "      <th></th>\n",
       "      <th>text</th>\n",
       "    </tr>\n",
       "  </thead>\n",
       "  <tbody>\n",
       "    <tr>\n",
       "      <th>0</th>\n",
       "      <td>coronavirus outbreak point source exposure eve...</td>\n",
       "    </tr>\n",
       "    <tr>\n",
       "      <th>1</th>\n",
       "      <td>outbreak coronavirus people death cure covid-1...</td>\n",
       "    </tr>\n",
       "    <tr>\n",
       "      <th>2</th>\n",
       "      <td>background endemic week coronavirus novel outb...</td>\n",
       "    </tr>\n",
       "    <tr>\n",
       "      <th>3</th>\n",
       "      <td>airline network role importation disease infor...</td>\n",
       "    </tr>\n",
       "    <tr>\n",
       "      <th>4</th>\n",
       "      <td>beginning emergence outbreak coronavirus need ...</td>\n",
       "    </tr>\n",
       "  </tbody>\n",
       "</table>\n",
       "</div>"
      ],
      "text/plain": [
       "                                                text\n",
       "0  coronavirus outbreak point source exposure eve...\n",
       "1  outbreak coronavirus people death cure covid-1...\n",
       "2  background endemic week coronavirus novel outb...\n",
       "3  airline network role importation disease infor...\n",
       "4  beginning emergence outbreak coronavirus need ..."
      ]
     },
     "execution_count": 4,
     "metadata": {},
     "output_type": "execute_result"
    }
   ],
   "source": [
    "# keep noun words\n",
    "def only_nouns(texts):\n",
    "    output = []\n",
    "    for doc in nlp.pipe(texts):\n",
    "        noun_text = \" \".join(token.lemma_ for token in doc if token.pos_ == 'NOUN')\n",
    "        output.append(noun_text)\n",
    "    return output\n",
    "\n",
    "\n",
    "df['text'] = only_nouns(df['text'])\n",
    "\n",
    "df.head()"
   ]
  },
  {
   "cell_type": "markdown",
   "metadata": {},
   "source": [
    "## Model Building"
   ]
  },
  {
   "cell_type": "code",
   "execution_count": 5,
   "metadata": {},
   "outputs": [
    {
     "data": {
      "text/plain": [
       "NMF(alpha=0.0, beta_loss='frobenius', init=None, l1_ratio=0.0, max_iter=200,\n",
       "    n_components=3, random_state=0, shuffle=False, solver='cd', tol=0.0001,\n",
       "    verbose=0)"
      ]
     },
     "execution_count": 5,
     "metadata": {},
     "output_type": "execute_result"
    }
   ],
   "source": [
    "# number of topics to extract\n",
    "n_topics = 3 # based on cluster size\n",
    "vec = TfidfVectorizer(max_features=5000, stop_words=\"english\", max_df=0.95, min_df=2)\n",
    "features = vec.fit_transform(df.text)\n",
    "\n",
    "cls = NMF(n_components=n_topics, random_state=random_state)\n",
    "cls.fit(features)"
   ]
  },
  {
   "cell_type": "markdown",
   "metadata": {},
   "source": [
    "## Topic Identification"
   ]
  },
  {
   "cell_type": "code",
   "execution_count": 6,
   "metadata": {},
   "outputs": [
    {
     "name": "stdout",
     "output_type": "stream",
     "text": [
      "Topic Details\n",
      "1 study patient trial author manuscript research guideline statement datum participant material approval symptom consent body \n",
      "2 case number model epidemic transmission outbreak measure country city study datum time day reproduction control \n",
      "3 protein cell virus receptor drug coronavirus sequence infection host vaccine structure epitope spike human coronaviruse \n"
     ]
    }
   ],
   "source": [
    "# list of unique words found by the vectorizer\n",
    "feature_names = vec.get_feature_names()\n",
    "\n",
    "# number of most influencing words to display per topic\n",
    "n_top_words = 15\n",
    "print(\"Topic Details\")\n",
    "for i, topic_vec in enumerate(cls.components_):\n",
    "    print(i+1, end=' ')\n",
    "    for fid in topic_vec.argsort()[-1:-n_top_words-1:-1]:\n",
    "        print(feature_names[fid], end=' ')\n",
    "    print()"
   ]
  },
  {
   "cell_type": "markdown",
   "metadata": {},
   "source": [
    "## 3 Identifiable topics\n",
    "### 1: Trial studies: It talks about the current studies and trials undergoing to curb the pandemic.\n",
    "### 2: Effect of coronvirus: It summarizes on how the virus is affecting various countries and the entire humanity\n",
    "### 3: Coronovirus Structure: It focusses on the virus composition, modus operandi, etc."
   ]
  }
 ],
 "metadata": {
  "kernelspec": {
   "display_name": "Python 3",
   "language": "python",
   "name": "python3"
  },
  "language_info": {
   "codemirror_mode": {
    "name": "ipython",
    "version": 3
   },
   "file_extension": ".py",
   "mimetype": "text/x-python",
   "name": "python",
   "nbconvert_exporter": "python",
   "pygments_lexer": "ipython3",
   "version": "3.7.4"
  }
 },
 "nbformat": 4,
 "nbformat_minor": 4
}
